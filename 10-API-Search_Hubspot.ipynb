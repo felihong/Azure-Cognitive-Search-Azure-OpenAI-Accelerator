{
 "cells": [
  {
   "cell_type": "markdown",
   "id": "66ab3cc5-aee4-415a-9391-1e5d37ccaf1d",
   "metadata": {},
   "source": [
    "# API Search - Make our bot to talk to any API"
   ]
  },
  {
   "cell_type": "markdown",
   "id": "306fc0a9-4044-441d-9ba7-f54f32e6ea9f",
   "metadata": {},
   "source": [
    "We have observed the remarkable synergy created by combining **GPT-4 with intelligent agents and detailed prompts**. This powerful combination has consistently delivered impressive results. To further capitalize on this capability, we should aim to integrate it with various systems through API communication. Essentially, we can develop within this notebook what is referred to in OpenAI's ChatGPT as 'GPTs.'\n",
    "\n",
    "Envision a bot that seamlessly integrates with:\n",
    "\n",
    "- **CRM Systems:** Including Dynamics, Salesforce, and HubSpot.\n",
    "- **ERP Systems:** Such as SAP, Dynamics, and Oracle.\n",
    "- **CMS Systems:** Including Adobe, Oracle, and other content management platforms.\n",
    "\n",
    "The objective is to **connect our bot with data repositories**, minimizing data duplication as much as possible. These systems typically offer APIs, facilitating programmatic data access.\n",
    "\n",
    "In this notebook, we plan to develop an agent capable of querying an API to retrieve information and effectively answer questions. We will try to interact with the CRM system HubSpot API (https://api.hubapi.com/)."
   ]
  },
  {
   "cell_type": "code",
   "execution_count": 1,
   "id": "c1fb79a3-4856-4721-988c-112813690a90",
   "metadata": {},
   "outputs": [
    {
     "data": {
      "text/plain": [
       "True"
      ]
     },
     "execution_count": 1,
     "metadata": {},
     "output_type": "execute_result"
    }
   ],
   "source": [
    "import os\n",
    "import requests\n",
    "from time import sleep\n",
    "\n",
    "from langchain.chat_models import AzureChatOpenAI\n",
    "from langchain.callbacks.manager import CallbackManager\n",
    "from langchain.agents import initialize_agent, AgentType\n",
    "from langchain.tools import BaseTool\n",
    "from langchain.chains import APIChain\n",
    "from langchain.agents.agent_toolkits.openapi.spec import reduce_openapi_spec\n",
    "\n",
    "from common.callbacks import StdOutCallbackHandler\n",
    "from common.utils import num_tokens_from_string, reduce_openapi_spec\n",
    "from common.prompts import APISEARCH_PROMPT_PREFIX\n",
    "\n",
    "from IPython.display import Markdown, HTML, display  \n",
    "\n",
    "from dotenv import load_dotenv\n",
    "load_dotenv(\"credentials.env\")\n"
   ]
  },
  {
   "cell_type": "code",
   "execution_count": 2,
   "id": "258a6e99-2d4f-4147-b8ee-c64c85296181",
   "metadata": {},
   "outputs": [],
   "source": [
    "# Set the ENV variables that Langchain needs to connect to Azure OpenAI\n",
    "os.environ[\"OPENAI_API_VERSION\"] = os.environ[\"AZURE_OPENAI_API_VERSION\"]"
   ]
  },
  {
   "cell_type": "code",
   "execution_count": 3,
   "id": "9d3daf03-77e2-466e-a255-2f06bee3561b",
   "metadata": {},
   "outputs": [],
   "source": [
    "cb_handler = StdOutCallbackHandler()\n",
    "cb_manager = CallbackManager(handlers=[cb_handler])\n",
    "\n",
    "llm_1 = AzureChatOpenAI(deployment_name=\"gpt-4-32k\", temperature=0, max_tokens=2000, callback_manager=cb_manager)\n",
    "llm_2 = AzureChatOpenAI(deployment_name=\"gpt-35-turbo-16k\", temperature=0, max_tokens=1000)"
   ]
  },
  {
   "cell_type": "markdown",
   "id": "9cc03401-a5a9-455b-bf17-07da2005e61f",
   "metadata": {},
   "source": [
    "## The Logic"
   ]
  },
  {
   "cell_type": "markdown",
   "id": "ebe42eda-3e74-4114-bd25-2473593cc1b4",
   "metadata": {},
   "source": [
    "By now, you must infer that the solution for an API Agent has to be something like: give the API specification as part of the system prompt to the LLM , then have an agent plan for the right steps to formulate the API call.<br>\n",
    "\n",
    "Let's do that. But we must first understand the industry standards of Swagger/OpenAPI\n"
   ]
  },
  {
   "cell_type": "markdown",
   "id": "1e8e0b32-a6b5-4b1c-943d-e57b737213fa",
   "metadata": {},
   "source": [
    "## Introduction to OpenAPI (formerly Swagger)"
   ]
  },
  {
   "cell_type": "markdown",
   "id": "003327ac-2851-48ef-8a6b-2d8c2004bb2e",
   "metadata": {},
   "source": [
    "The OpenAPI Specification, previously known as the Swagger Specification, is a specification for a machine-readable interface definition language for describing, producing, consuming and visualizing web services. Previously part of the Swagger framework, it became a separate project in 2016, overseen by the OpenAPI Initiative, an open-source collaboration project of the Linux Foundation.\n",
    "\n",
    "OpenAPI Specification is an API description format for REST APIs. An OpenAPI file allows you to describe your entire API, including: Available endpoints (/users for example) and operations on each endpoint ( GET /users, POST /users), description, contact information, license, terms of use and other information."
   ]
  },
  {
   "cell_type": "markdown",
   "id": "a1902af5-f889-4bcf-85e0-1b601bd2ce47",
   "metadata": {},
   "source": [
    "### Let's get the OpenAPI (Swagger) spec from our desired API that we want to talk to"
   ]
  },
  {
   "cell_type": "code",
   "execution_count": 4,
   "id": "e78960a6-623d-4999-a4e3-89aee5c076de",
   "metadata": {},
   "outputs": [],
   "source": [
    "# Swagger for HubSpot contacts API\n",
    "url = 'https://api.hubspot.com/api-catalog-public/v1/apis/crm/v3/objects/contacts'\n",
    "response = requests.get(url)\n",
    "\n",
    "# Check if the request was successful\n",
    "if response.status_code == 200:\n",
    "    spec = response.json()\n",
    "else:\n",
    "    spec = None\n",
    "    print(f\"Failed to retrieve data: Status code {response.status_code}\")\n"
   ]
  },
  {
   "cell_type": "markdown",
   "id": "dd3cab16-e71d-4652-ab27-7b0704365454",
   "metadata": {},
   "source": [
    "Let's see how big is this API specification:"
   ]
  },
  {
   "cell_type": "code",
   "execution_count": 5,
   "id": "57d77e9b-6f3f-4ec4-bc01-baac18984937",
   "metadata": {},
   "outputs": [
    {
     "name": "stdout",
     "output_type": "stream",
     "text": [
      "API spec size in tokens: 7738\n"
     ]
    }
   ],
   "source": [
    "api_tokens = num_tokens_from_string(str(spec))\n",
    "print(\"API spec size in tokens:\",api_tokens)"
   ]
  },
  {
   "cell_type": "markdown",
   "id": "2ccdb128-7700-4e37-b378-490051348daa",
   "metadata": {},
   "source": [
    "## Creating a custom agent that uses the APIChain as a tool\n",
    "\n",
    "To solve the avobe problem, we can build a REACT Agent that uses the APIChain as a tool to get the information. This agent will create as many calls as needed (using the chain tool) until it answers the question"
   ]
  },
  {
   "cell_type": "code",
   "execution_count": 6,
   "id": "d3d155ae-16eb-458a-b2ed-5aa9a9b84ed8",
   "metadata": {},
   "outputs": [],
   "source": [
    "class HubspotAPIContact(BaseTool):\n",
    "    \"\"\"APIChain as an agent tool\"\"\"\n",
    "    \n",
    "    name = \"@apicontacts\"\n",
    "    description = \"useful when the questions includes the term: @apicontacts. E.g. querying about contact name, company, and e-mail.\\n\"\n",
    "\n",
    "    llm: AzureChatOpenAI\n",
    "    api_spec: str\n",
    "    headers: dict = {}\n",
    "    limit_to_domains: list = []\n",
    "    verbose: bool = False\n",
    "    \n",
    "    def _run(self, query: str) -> str:\n",
    "        \n",
    "        chain = APIChain.from_llm_and_api_docs(\n",
    "                            llm=self.llm,\n",
    "                            api_docs=self.api_spec,\n",
    "                            headers=self.headers,\n",
    "                            verbose=self.verbose,\n",
    "                            limit_to_domains=self.limit_to_domains\n",
    "                )\n",
    "        try:\n",
    "            sleep(2) # This is optional to avoid possible TPM rate limits\n",
    "            response = chain.run(query)\n",
    "        except Exception as e:\n",
    "            response = e\n",
    "        \n",
    "        return response\n",
    "            \n",
    "    async def _arun(self, query: str) -> str:\n",
    "        \"\"\"Use the tool asynchronously.\"\"\"\n",
    "        raise NotImplementedError(\"This Tool does not support async\")\n",
    "\n",
    "class HubspotAPICompany(BaseTool):\n",
    "    \"\"\"APIChain as an agent tool\"\"\"\n",
    "    \n",
    "    name = \"@apicompanies\"\n",
    "    description = \"useful when the questions includes the term: @apicompanies. E.g. querying about company name, owner and contact information. \\n\"\n",
    "\n",
    "    llm: AzureChatOpenAI\n",
    "    api_spec: str\n",
    "    headers: dict = {}\n",
    "    limit_to_domains: list = []\n",
    "    verbose: bool = False\n",
    "    \n",
    "    def _run(self, query: str) -> str:\n",
    "        \n",
    "        chain = APIChain.from_llm_and_api_docs(\n",
    "                            llm=self.llm,\n",
    "                            api_docs=self.api_spec,\n",
    "                            headers=self.headers,\n",
    "                            verbose=self.verbose,\n",
    "                            limit_to_domains=self.limit_to_domains\n",
    "                )\n",
    "        try:\n",
    "            sleep(2) # This is optional to avoid possible TPM rate limits\n",
    "            response = chain.run(query)\n",
    "        except Exception as e:\n",
    "            response = e\n",
    "        \n",
    "        return response\n",
    "            \n",
    "    async def _arun(self, query: str) -> str:\n",
    "        \"\"\"Use the tool asynchronously.\"\"\"\n",
    "        raise NotImplementedError(\"This Tool does not support async\")\n",
    "    \n",
    "class HubspotAPIDeal(BaseTool):\n",
    "    \"\"\"APIChain as an agent tool\"\"\"\n",
    "    \n",
    "    name = \"@apideals\"\n",
    "    description = \"useful when the questions includes the term: @apideals. E.g. querying about deal status, deal stage and amount. \\n\"\n",
    "\n",
    "    llm: AzureChatOpenAI\n",
    "    api_spec: str\n",
    "    headers: dict = {}\n",
    "    limit_to_domains: list = []\n",
    "    verbose: bool = False\n",
    "    \n",
    "    def _run(self, query: str) -> str:\n",
    "        \n",
    "        chain = APIChain.from_llm_and_api_docs(\n",
    "                            llm=self.llm,\n",
    "                            api_docs=self.api_spec,\n",
    "                            headers=self.headers,\n",
    "                            verbose=self.verbose,\n",
    "                            limit_to_domains=self.limit_to_domains\n",
    "                )\n",
    "        try:\n",
    "            sleep(2) # This is optional to avoid possible TPM rate limits\n",
    "            response = chain.run(query)\n",
    "        except Exception as e:\n",
    "            response = e\n",
    "        \n",
    "        return response\n",
    "            \n",
    "    async def _arun(self, query: str) -> str:\n",
    "        \"\"\"Use the tool asynchronously.\"\"\"\n",
    "        raise NotImplementedError(\"This Tool does not support async\")\n",
    "    \n",
    "class HubspotAPIProduct(BaseTool):\n",
    "    \"\"\"APIChain as an agent tool\"\"\"\n",
    "    \n",
    "    name = \"@apiproducts\"\n",
    "    description = \"useful when the questions includes the term: @apiproducts. E.g. querying about product name, description, and price. \\n\"\n",
    "\n",
    "    llm: AzureChatOpenAI\n",
    "    api_spec: str\n",
    "    headers: dict = {}\n",
    "    limit_to_domains: list = []\n",
    "    verbose: bool = False\n",
    "    \n",
    "    def _run(self, query: str) -> str:\n",
    "        \n",
    "        chain = APIChain.from_llm_and_api_docs(\n",
    "                            llm=self.llm,\n",
    "                            api_docs=self.api_spec,\n",
    "                            headers=self.headers,\n",
    "                            verbose=self.verbose,\n",
    "                            limit_to_domains=self.limit_to_domains\n",
    "                )\n",
    "        try:\n",
    "            sleep(2) # This is optional to avoid possible TPM rate limits\n",
    "            response = chain.run(query)\n",
    "        except Exception as e:\n",
    "            response = e\n",
    "        \n",
    "        return response\n",
    "            \n",
    "    async def _arun(self, query: str) -> str:\n",
    "        \"\"\"Use the tool asynchronously.\"\"\"\n",
    "        raise NotImplementedError(\"This Tool does not support async\")"
   ]
  },
  {
   "cell_type": "code",
   "execution_count": 7,
   "id": "9f47e2e5",
   "metadata": {},
   "outputs": [],
   "source": [
    "def get_spec(url):\n",
    "    response = requests.get(url)\n",
    "    \n",
    "    # Check if the request was successful\n",
    "    if response.status_code == 200:\n",
    "        spec = response.json()\n",
    "    else:\n",
    "        spec = None\n",
    "        print(f\"Failed to retrieve data: Status code {response.status_code}\")\n",
    "    return spec"
   ]
  },
  {
   "cell_type": "markdown",
   "id": "b553cd34-d9c1-4ec8-858f-f6cc0126bc1e",
   "metadata": {},
   "source": [
    "Create customized tools for contact and company APIs"
   ]
  },
  {
   "cell_type": "code",
   "execution_count": 8,
   "id": "c996e4fe",
   "metadata": {},
   "outputs": [],
   "source": [
    "access_token = os.environ[\"HUBSPOT_ACCESS_TOKEN\"]\n",
    "headers = {\"Authorization\": f\"Bearer {access_token}\"}\n",
    "\n",
    "contact_tool = HubspotAPIContact(\n",
    "    llm=llm_1, \n",
    "    api_spec=str(get_spec('https://api.hubspot.com/api-catalog-public/v1/apis/crm/v3/objects/contacts')),\n",
    "    headers=headers,\n",
    "    verbose=True,\n",
    "    limit_to_domains=[\"https://api.hubapi.com/\"]\n",
    ")\n",
    "\n",
    "company_tool = HubspotAPICompany(\n",
    "    llm=llm_1, \n",
    "    api_spec=str(get_spec('https://api.hubspot.com/api-catalog-public/v1/apis/crm/v3/objects/companies')),\n",
    "    headers=headers,\n",
    "    limit_to_domains=[\"https://api.hubapi.com/\"]\n",
    ")\n",
    "\n",
    "deal_tool = HubspotAPIDeal(\n",
    "    llm=llm_1, \n",
    "    api_spec=str(get_spec('https://api.hubspot.com/api-catalog-public/v1/apis/crm/v3/objects/deals')),\n",
    "    headers=headers,\n",
    "    limit_to_domains=[\"https://api.hubapi.com/\"]\n",
    ")\n",
    "\n",
    "product_tool = HubspotAPIProduct(\n",
    "    llm=llm_1, \n",
    "    api_spec=str(get_spec('https://api.hubspot.com/api-catalog-public/v1/apis/crm/v3/objects/products')),\n",
    "    headers=headers,\n",
    "    limit_to_domains=[\"https://api.hubapi.com/\"]\n",
    ")"
   ]
  },
  {
   "cell_type": "code",
   "execution_count": 9,
   "id": "2c6cf721-76bb-47b6-aeeb-9ff4ff92b1f4",
   "metadata": {
    "tags": []
   },
   "outputs": [
    {
     "name": "stdout",
     "output_type": "stream",
     "text": [
      "['@apicontacts', '@apicompanies', '@apideals', '@apiproducts']\n"
     ]
    }
   ],
   "source": [
    "tools = [contact_tool, company_tool, deal_tool, product_tool]\n",
    "\n",
    "agent_executor = initialize_agent(\n",
    "    tools,\n",
    "    llm_1,  # Pay attention to the GPT model used by the agent,\n",
    "    verbose=True,\n",
    "    agent=AgentType.ZERO_SHOT_REACT_DESCRIPTION, \n",
    "    agent_kwargs={'prefix':APISEARCH_PROMPT_PREFIX}, \n",
    "    callback_manager=cb_manager\n",
    ")\n",
    "\n",
    "print(agent_executor.agent.allowed_tools)"
   ]
  },
  {
   "cell_type": "code",
   "execution_count": 18,
   "id": "0231475c",
   "metadata": {},
   "outputs": [],
   "source": [
    "QUESTION = '''Can you provide me with all existing sales deals?'''\n",
    "# QUESTION = '''Can you provide me with all existing contacts?'''\n",
    "# QUESTION = '''Can you provide me all sales products from the Hubspot system?'''"
   ]
  },
  {
   "cell_type": "code",
   "execution_count": 19,
   "id": "ca910f71-60fb-4758-b4a9-757e37eb421f",
   "metadata": {},
   "outputs": [
    {
     "name": "stdout",
     "output_type": "stream",
     "text": [
      "\n",
      "\n",
      "\u001b[1m> Entering new AgentExecutor chain...\u001b[0m\n",
      "The user is asking for information about all existing sales deals. This information can be obtained using the @apideals tool.\n",
      "Action: @apideals\n",
      "Action Input: {\"operation\": \"list\"}\n",
      "\u001b[32;1m\u001b[1;3mThe user is asking for information about all existing sales deals. This information can be obtained using the @apideals tool.\n",
      "Action: @apideals\n",
      "Action Input: {\"operation\": \"list\"}\u001b[0m\n",
      "Observation: \u001b[38;5;200m\u001b[1;3mThe API call lists the deals in the system. There is one deal with the id \"10885438957\". The deal is for \"T-Shirts for hackathon event\" with an amount of \"1250\". The deal is currently in the \"appointmentscheduled\" stage in the default pipeline. The deal was created on \"2024-02-12T10:00:36.458Z\" and last modified on \"2024-02-12T10:00:43.970Z\". The deal is not archived.\u001b[0m\n",
      "Thought:\u001b[32;1m\u001b[1;3mI have obtained the information about the existing sales deal from the @apideals tool. I can now provide this information to the user.\n",
      "Final Answer: There is one existing sales deal in the system. The deal is for \"T-Shirts for hackathon event\" with an amount of 1250 USD. The deal is currently in the \"appointment scheduled\" stage in the default pipeline. The deal was created on February 12, 2024, and last modified on the same day. The deal is not archived.\u001b[0m\n",
      "\n",
      "\u001b[1m> Finished chain.\u001b[0m\n"
     ]
    }
   ],
   "source": [
    "# As LLMs responses are never the same, we do a for loop in case the answer cannot be parsed according to our prompt instructions\n",
    "for i in range(2):\n",
    "    try:\n",
    "        response = agent_executor.invoke(QUESTION) \n",
    "        break\n",
    "    except Exception as e:\n",
    "        print(e)\n",
    "        response = str(e)\n",
    "        continue"
   ]
  },
  {
   "cell_type": "code",
   "execution_count": 13,
   "id": "a4bd6dd7",
   "metadata": {},
   "outputs": [
    {
     "data": {
      "text/plain": [
       "{'input': 'Can you provide me with all existing contacts?',\n",
       " 'output': 'Here are all the existing contacts:\\n\\n1. Maria Johnson (Sample Contact) with email: emailmaria@hubspot.com\\n2. Brian Halligan (Sample Contact) with email: bh@hubspot.com\\n3. Olafs Rozitis with email: olafs.rozitis@contoso.com\\n4. Kumar Kamei with email: kumar.kamei@bloomberg.com\\n5. Sylvie Laramee with email: sylvie.laramee@apple.com\\n6. Luis Saucedo with email: luis.saucedo@hubspot.com\\n7. Kalyani Benjaree with email: kalyani.benjaree@microsoft.com\\n8. Ivana Hadrabova with email: ivana.hadrabova@hubspot.com\\n9. Nguyen Banh with email: nguyen.banh@telecom.de'}"
      ]
     },
     "execution_count": 13,
     "metadata": {},
     "output_type": "execute_result"
    }
   ],
   "source": [
    "response"
   ]
  },
  {
   "cell_type": "markdown",
   "id": "73027201-d6e2-4aa0-a480-934c53ae4eb8",
   "metadata": {},
   "source": [
    "**Great!!** we have now an API Agent using APIChain as a tool, capable of reasoning until it can find the answer. And it is pretty fast as well."
   ]
  },
  {
   "cell_type": "markdown",
   "id": "56cbc405-26e2-471e-9626-2a0df07f5ddc",
   "metadata": {},
   "source": [
    "# Summary"
   ]
  },
  {
   "cell_type": "markdown",
   "id": "7381ea5f-7269-4e1f-8b0c-1e2c04bd84c0",
   "metadata": {},
   "source": [
    "In this notebook, we learned about how to create very smart API agents for simple or complex APIs that use Swagger or OpenAPI specifications.\n",
    "We see, again, that the key to success is to use: Agents with Expert tools + GPT-4 + good prompts.\n",
    "\n",
    "As homework, try to create a shopping assistant for Etsy e-commerce site using the following API spec: (you will need to register for free and create an API-Key)\n",
    "\n",
    "- https://developers.etsy.com/documentation/\n",
    "- https://www.etsy.com/openapi/generated/oas/3.0.0.json"
   ]
  },
  {
   "cell_type": "markdown",
   "id": "02073623-91b4-40d6-8eaf-cb6d9c6a7a9a",
   "metadata": {},
   "source": [
    "# NEXT\n",
    "\n",
    "The Next Notebook will guide you on how we stick everything together. How do we use the features of all notebooks and create a brain agent that can respond to any request accordingly."
   ]
  }
 ],
 "metadata": {
  "kernelspec": {
   "display_name": "virtual-agent",
   "language": "python",
   "name": "python3"
  },
  "language_info": {
   "codemirror_mode": {
    "name": "ipython",
    "version": 3
   },
   "file_extension": ".py",
   "mimetype": "text/x-python",
   "name": "python",
   "nbconvert_exporter": "python",
   "pygments_lexer": "ipython3",
   "version": "3.10.0"
  }
 },
 "nbformat": 4,
 "nbformat_minor": 5
}
